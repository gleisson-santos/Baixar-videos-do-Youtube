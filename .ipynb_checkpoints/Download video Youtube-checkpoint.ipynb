{
 "cells": [
  {
   "cell_type": "code",
   "execution_count": 2,
   "id": "d0d4fb06",
   "metadata": {},
   "outputs": [],
   "source": [
    "from pytube import YouTube\n",
    "import PySimpleGUI as sg\n",
    "\n",
    "\n",
    "sg.theme('Dark')\n",
    "layout = [[sg.Text('Informe o link do video: '), sg.InputText()],\n",
    "          [sg.Text('Informe a pasta para salvar: '), sg.InputText(), sg.FolderBrowse()],\n",
    "          [sg.Button('Baixar'), sg.Button('Cancelar')]]\n",
    "\n",
    "janela = sg.Window('VideoDownloader', layout)\n",
    "\n",
    "while True:\n",
    "    event, values = janela.read()\n",
    "    if event == 'Cancelar' or event == sg.WIN_CLOSED:\n",
    "        break\n",
    "    elif event == 'Baixar':\n",
    "        video = YouTube(values[0])\n",
    "        video.streams.get_highest_resolution().download()\n",
    "        sg.PopupOK('Download concluido com sucesso ')\n",
    "\n",
    "janela.close()"
   ]
  },
  {
   "cell_type": "code",
   "execution_count": 12,
   "id": "752447ba",
   "metadata": {},
   "outputs": [],
   "source": [
    "from pytube import YouTube\n",
    "import PySimpleGUI as sg\n",
    "from tqdm import tqdm\n",
    "\n",
    "sg.theme('Dark')\n",
    "layout = [[sg.Text('Informe os links ( , )', size=(15, 1)), sg.InputText(key='links')],\n",
    "          [sg.Text('Informe onde salvar', size=(15, 1)), sg.InputText(), sg.FolderBrowse()],\n",
    "          [sg.Button('Baixar'), sg.Button('Cancelar')]]\n",
    "\n",
    "janela = sg.Window('VideoDownloader', layout)\n",
    "\n",
    "while True:\n",
    "    event, values = janela.read()\n",
    "    if event == 'Cancelar' or event == sg.WIN_CLOSED:\n",
    "        break\n",
    "    elif event == 'Baixar':\n",
    "        links = values['links'].split(',')\n",
    "        progress_bar = tqdm(total=len(links), desc='Baixando')\n",
    "        for link in links:\n",
    "            video = YouTube(link.strip())\n",
    "            video.streams.get_highest_resolution().download()\n",
    "            progress_bar.update(1)\n",
    "        progress_bar.close()\n",
    "        sg.PopupOK('Download concluido com sucesso')\n",
    "\n",
    "janela.close()\n"
   ]
  },
  {
   "cell_type": "code",
   "execution_count": 5,
   "id": "9aa5b3c5",
   "metadata": {
    "collapsed": true
   },
   "outputs": [
    {
     "name": "stdout",
     "output_type": "stream",
     "text": [
      "Collecting PySimpleGUIQt\n",
      "  Downloading PySimpleGUIQt-0.35.0-py3-none-any.whl (82 kB)\n",
      "Collecting pyside2\n",
      "  Downloading PySide2-5.15.2.1-5.15.2-cp35.cp36.cp37.cp38.cp39.cp310-none-win_amd64.whl (137.4 MB)\n",
      "Collecting shiboken2==5.15.2.1\n",
      "  Downloading shiboken2-5.15.2.1-5.15.2-cp35.cp36.cp37.cp38.cp39.cp310-none-win_amd64.whl (2.3 MB)\n",
      "Installing collected packages: shiboken2, pyside2, PySimpleGUIQt\n",
      "Successfully installed PySimpleGUIQt-0.35.0 pyside2-5.15.2.1 shiboken2-5.15.2.1\n",
      "Note: you may need to restart the kernel to use updated packages.\n"
     ]
    },
    {
     "name": "stderr",
     "output_type": "stream",
     "text": [
      "  WARNING: Retrying (Retry(total=4, connect=None, read=None, redirect=None, status=None)) after connection broken by 'SSLError(SSLCertVerificationError(1, '[SSL: CERTIFICATE_VERIFY_FAILED] certificate verify failed: self signed certificate in certificate chain (_ssl.c:1129)'))': /packages/92/cb/f98df66b5d33ac5c71748fdabf4af3894a0440fdbf9e19fc258b5c7b1273/PySimpleGUIQt-0.35.0-py3-none-any.whl\n"
     ]
    }
   ],
   "source": [
    "pip install PySimpleGUIQt\n"
   ]
  }
 ],
 "metadata": {
  "kernelspec": {
   "display_name": "Python 3 (ipykernel)",
   "language": "python",
   "name": "python3"
  },
  "language_info": {
   "codemirror_mode": {
    "name": "ipython",
    "version": 3
   },
   "file_extension": ".py",
   "mimetype": "text/x-python",
   "name": "python",
   "nbconvert_exporter": "python",
   "pygments_lexer": "ipython3",
   "version": "3.9.7"
  }
 },
 "nbformat": 4,
 "nbformat_minor": 5
}
